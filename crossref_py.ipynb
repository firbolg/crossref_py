{
 "cells": [
  {
   "cell_type": "markdown",
   "id": "0ed3551a-1355-4903-a203-399ba052f989",
   "metadata": {},
   "source": [
    "<h1>Introduction to the Crossref API</h1>\n",
    "<h3>by Levi Dolan, Indiana University</h3> \n",
    "\n",
    "About: This notebook demonstrates the basics of querying the Crossref REST API, using the Python library \n",
    "<a href=\"https://gitlab.com/crossref/crossref_commons_py\" target=\"_blank\">Crossref Commons</a>.\n"
   ]
  },
  {
   "cell_type": "code",
   "execution_count": 1,
   "id": "6889a93b-e2b4-4739-a042-1c15c588f193",
   "metadata": {},
   "outputs": [
    {
     "data": {
      "text/plain": [
       "{'indexed': {'date-parts': [[2022, 3, 29]],\n",
       "  'date-time': '2022-03-29T14:16:35Z',\n",
       "  'timestamp': 1648563395903},\n",
       " 'reference-count': 0,\n",
       " 'publisher': 'Project Muse',\n",
       " 'issue': '2',\n",
       " 'content-domain': {'domain': [], 'crossmark-restriction': False},\n",
       " 'short-container-title': ['Science Fiction Studies'],\n",
       " 'published-print': {'date-parts': [[2013]]},\n",
       " 'DOI': '10.5621/sciefictstud.40.2.0382',\n",
       " 'type': 'journal-article',\n",
       " 'created': {'date-parts': [[2013, 7, 2]],\n",
       "  'date-time': '2013-07-02T12:51:49Z',\n",
       "  'timestamp': 1372769509000},\n",
       " 'page': '382',\n",
       " 'source': 'Crossref',\n",
       " 'is-referenced-by-count': 0,\n",
       " 'title': ['Humanism on Gallifrey'],\n",
       " 'prefix': '10.1353',\n",
       " 'volume': '40',\n",
       " 'author': [{'family': 'Elizabeth Lundberg',\n",
       "   'sequence': 'first',\n",
       "   'affiliation': []}],\n",
       " 'member': '147',\n",
       " 'container-title': ['Science Fiction Studies'],\n",
       " 'original-title': [],\n",
       " 'deposited': {'date-parts': [[2022, 1, 1]],\n",
       "  'date-time': '2022-01-01T17:49:31Z',\n",
       "  'timestamp': 1641059371000},\n",
       " 'score': 1,\n",
       " 'resource': {'primary': {'URL': 'http://www.jstor.org/stable/10.5621/sciefictstud.40.2.0382'}},\n",
       " 'subtitle': [],\n",
       " 'short-title': [],\n",
       " 'issued': {'date-parts': [[2013]]},\n",
       " 'references-count': 0,\n",
       " 'journal-issue': {'issue': '2', 'published-print': {'date-parts': [[2013]]}},\n",
       " 'alternative-id': ['10.5621/sciefictstud.40.2.0382'],\n",
       " 'URL': 'http://dx.doi.org/10.5621/sciefictstud.40.2.0382',\n",
       " 'relation': {},\n",
       " 'ISSN': ['0091-7729'],\n",
       " 'issn-type': [{'value': '0091-7729', 'type': 'print'}],\n",
       " 'subject': ['Literature and Literary Theory'],\n",
       " 'published': {'date-parts': [[2013]]}}"
      ]
     },
     "execution_count": 1,
     "metadata": {},
     "output_type": "execute_result"
    }
   ],
   "source": [
    "import crossref_commons.retrieval\n",
    "\n",
    "crossref_commons.retrieval.get_publication_as_json('10.5621/sciefictstud.40.2.0382')\n"
   ]
  },
  {
   "cell_type": "code",
   "execution_count": null,
   "id": "72a1ab14-ce84-40cf-9f14-d79350204efe",
   "metadata": {},
   "outputs": [],
   "source": []
  }
 ],
 "metadata": {
  "kernelspec": {
   "display_name": "Python 3 (ipykernel)",
   "language": "python",
   "name": "python3"
  },
  "language_info": {
   "codemirror_mode": {
    "name": "ipython",
    "version": 3
   },
   "file_extension": ".py",
   "mimetype": "text/x-python",
   "name": "python",
   "nbconvert_exporter": "python",
   "pygments_lexer": "ipython3",
   "version": "3.7.12"
  }
 },
 "nbformat": 4,
 "nbformat_minor": 5
}
