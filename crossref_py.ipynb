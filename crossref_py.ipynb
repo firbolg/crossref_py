{
 "cells": [
  {
   "cell_type": "markdown",
   "id": "0ed3551a-1355-4903-a203-399ba052f989",
   "metadata": {},
   "source": [
    "<h1>Introduction to the Crossref REST API</h1>\n",
    "<h3>by Levi Dolan, Indiana University</h3> \n",
    "\n",
    "About: This notebook demonstrates the basics of querying the Crossref REST API, using the Python library \n",
    "<a href=\"https://github.com/fabiobatalha/crossrefapi\" target=\"_blank\">Crossref API</a> owned by Fabio Batalha.\n",
    "\n",
    "About Crossref: Containing over 106 million records and expanding at an average rate of 11% a year, Crossref’s metadata has become one of the major sources of scholarly data for publishers, authors, librarians, funders, and researchers. The metadata set consists of 13 content types, including not only traditional types, such as journals and conference papers, but also data sets, reports, preprints, peer reviews, and grants. The metadata is not limited to basic publication metadata, but can also include abstracts and links to full text, funding and license information, citation links, and the information about corrections, updates, retractions, etc. This scale and breadth make Crossref a valuable source for research in scientometrics, including measuring the growth and impact of science and understanding new trends in scholarly communications. The metadata is available through a number of APIs, including REST API and OAI-PMH.\n",
    "\n",
    "Ginny Hendricks, Dominika Tkaczyk, Jennifer Lin, Patricia Feeney; Crossref: The sustainable source of community-owned scholarly metadata. Quantitative Science Studies 2020; 1 (1): 414–427. doi: https://doi.org/10.1162/qss_a_00022\n"
   ]
  },
  {
   "cell_type": "code",
   "execution_count": null,
   "id": "6889a93b-e2b4-4739-a042-1c15c588f193",
   "metadata": {},
   "outputs": [],
   "source": [
    "#introduce Works \n",
    "\n",
    "from crossref.restful import Works\n",
    "\n",
    "works = Works()\n",
    "\n",
    "works.agency('10.1590/0102-311x00133115')\n"
   ]
  },
  {
   "cell_type": "code",
   "execution_count": null,
   "id": "72a1ab14-ce84-40cf-9f14-d79350204efe",
   "metadata": {},
   "outputs": [],
   "source": [
    "#Polite requests\n",
    "\n",
    "from crossref.restful import Works, Etiquette\n",
    "\n",
    "my_etiquette = Etiquette('IU RLML instruction test', '0.1alpha', 'https://github.com/firbolg/crossref_py', 'dolanl@iu.edu')\n",
    "\n",
    "str(my_etiquette)\n",
    "\n",
    "works = Works(etiquette=my_etiquette)\n",
    "\n",
    "for i in works.sample(5).select('DOI'):\n",
    "   print(i)"
   ]
  },
  {
   "cell_type": "code",
   "execution_count": null,
   "id": "bcb7c860",
   "metadata": {},
   "outputs": [],
   "source": [
    "#Example\n",
    "#Singh, H., et al. \"Cutaneous Manifestations of COVID-19: A Systematic Review.\" \n",
    "#Advances in Wound Care, vol. 10, no. 2, 2021, pp. 51-80. SCOPUS, www.scopus.com, doi:10.1089/wound.2020.1309. \n",
    "\n",
    "w1 = works.query(bibliographic='covid',author='singh',publisher_name='liebert')\n",
    "\n",
    "for item in w1:\n",
    "   print(item['title'])"
   ]
  },
  {
   "cell_type": "code",
   "execution_count": null,
   "id": "620bd05b",
   "metadata": {},
   "outputs": [],
   "source": [
    "#Example\n",
    "#check journal to see number of DOIs issued as indicator of journal scope, speciality\n",
    "#search Advances in Wound Care at https://portal.issn.org/ \n",
    "#https://portal.issn.org/resource/ISSN/2162-1918\n",
    "\n",
    "from crossref.restful import Journals\n",
    "\n",
    "journals = Journals()\n",
    "\n",
    "journals.journal('2162-1918')"
   ]
  },
  {
   "cell_type": "code",
   "execution_count": null,
   "id": "c4a4dcb8",
   "metadata": {},
   "outputs": [],
   "source": [
    "#Example\n",
    "#count all articles with given keyword in metadata \n",
    "\n",
    "works.query('covid').count()"
   ]
  },
  {
   "cell_type": "code",
   "execution_count": null,
   "id": "a600b7f0",
   "metadata": {},
   "outputs": [],
   "source": [
    "#limit to current year\n",
    "\n",
    "works.query('covid').filter(from_online_pub_date='2022').count()"
   ]
  },
  {
   "cell_type": "code",
   "execution_count": null,
   "id": "60da597d",
   "metadata": {},
   "outputs": [],
   "source": [
    "#Find number of current year articles which included \"IUSM\" in their affiliation\n",
    "\n",
    "works.query(affiliation=\"IUSM\").filter(from_deposit_date='2022').count()"
   ]
  },
  {
   "cell_type": "code",
   "execution_count": null,
   "id": "f71af9e4",
   "metadata": {},
   "outputs": [],
   "source": [
    "#Print the full metadata for these articles\n",
    "\n",
    "iusm_articles = works.query(affiliation=\"IUSM\").filter(from_deposit_date='2022')\n",
    "\n",
    "for item in iusm_articles:\n",
    "   print(item)"
   ]
  },
  {
   "cell_type": "code",
   "execution_count": null,
   "id": "1a57de9b",
   "metadata": {},
   "outputs": [],
   "source": []
  }
 ],
 "metadata": {
  "kernelspec": {
   "display_name": "Python 3 (ipykernel)",
   "language": "python",
   "name": "python3"
  },
  "language_info": {
   "codemirror_mode": {
    "name": "ipython",
    "version": 3
   },
   "file_extension": ".py",
   "mimetype": "text/x-python",
   "name": "python",
   "nbconvert_exporter": "python",
   "pygments_lexer": "ipython3",
   "version": "3.7.12"
  }
 },
 "nbformat": 4,
 "nbformat_minor": 5
}
